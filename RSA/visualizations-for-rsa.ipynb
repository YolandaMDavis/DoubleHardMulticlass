{
 "cells": [
  {
   "cell_type": "code",
   "execution_count": 1,
   "metadata": {
    "pycharm": {
     "is_executing": true
    }
   },
   "outputs": [],
   "source": [
    "import matplotlib.pyplot as plt\n",
    "import numpy as np\n",
    "import string \n",
    "from utils import get_RSA3 \n",
    "%matplotlib inline"
   ]
  },
  {
   "cell_type": "code",
   "execution_count": 2,
   "metadata": {},
   "outputs": [],
   "source": [
    "import os\n",
    "curr_dr = os.getcwd() "
   ]
  },
  {
   "cell_type": "markdown",
   "metadata": {},
   "source": [
    "## Biased embeddings RSA scores"
   ]
  },
  {
   "cell_type": "markdown",
   "metadata": {},
   "source": [
    "#### Word2Vec"
   ]
  },
  {
   "cell_type": "code",
   "execution_count": 3,
   "metadata": {
    "scrolled": false
   },
   "outputs": [
    {
     "name": "stdout",
     "output_type": "stream",
     "text": [
      "White_Concept\n",
      "word idx matrices created\n",
      "w2v matrices created\n",
      "embeds generated\n",
      "RSA White_Roles White_Concept: 0.19393236978037595 STD: 0.10278797690217091\n",
      "RSA Asian_Roles White_Concept: -0.05133887963537337 STD: 0.056437439117677145\n",
      "RSA Black_Roles White_Concept: -0.02713773780456214 STD: 0.07688259216364467\n",
      "Sign Test White_Roles vs. Asian_Roles: 1.5777218104420236e-30\n",
      "Sign Test White_Roles vs. Black_Roles: 2.726143732806038e-20\n",
      "Sign Test Black_Roles vs. Asian_Roles: 0.02097873567785172\n",
      "\n",
      "Asian_Concept\n",
      "word idx matrices created\n",
      "w2v matrices created\n",
      "embeds generated\n",
      "RSA White_Roles Asian_Concept: 0.16575802167492817 STD: 0.06278434439930161\n",
      "RSA Asian_Roles Asian_Concept: 0.021196136336100877 STD: 0.04596240122742042\n",
      "RSA Black_Roles Asian_Concept: -0.04098337338282483 STD: 0.06927611084311293\n",
      "Sign Test White_Roles vs. Asian_Roles: 2.630866896130179e-25\n",
      "Sign Test White_Roles vs. Black_Roles: 2.630866896130179e-25\n",
      "Sign Test Black_Roles vs. Asian_Roles: 0.0008737198369123724\n",
      "\n",
      "Black_Concept\n",
      "word idx matrices created\n",
      "w2v matrices created\n",
      "embeds generated\n",
      "RSA White_Roles Black_Concept: 0.2099555231360787 STD: 0.08507809254814046\n",
      "RSA Asian_Roles Black_Concept: -0.03851804984932476 STD: 0.059653715355649485\n",
      "RSA Black_Roles Black_Concept: 0.06052380713169356 STD: 0.08029352220401563\n",
      "Sign Test White_Roles vs. Asian_Roles: 1.5777218104420236e-30\n",
      "Sign Test White_Roles vs. Black_Roles: 8.284451872080075e-14\n",
      "Sign Test Black_Roles vs. Asian_Roles: 4.3373666334216375e-09\n",
      "\n"
     ]
    }
   ],
   "source": [
    "w2v_biased =  get_RSA3(curr_dr+'/data/Word_Data_race.xlsx', \n",
    "        curr_dr  + \"/data/data_vocab_race_pre_trained.w2v\", 50)"
   ]
  },
  {
   "cell_type": "markdown",
   "metadata": {},
   "source": [
    "## Hard Debiased embeddings RSA scores"
   ]
  },
  {
   "cell_type": "markdown",
   "metadata": {},
   "source": [
    "#### Word2Vec"
   ]
  },
  {
   "cell_type": "code",
   "execution_count": 4,
   "metadata": {},
   "outputs": [
    {
     "name": "stdout",
     "output_type": "stream",
     "text": [
      "White_Concept\n",
      "word idx matrices created\n",
      "w2v matrices created\n",
      "embeds generated\n",
      "RSA White_Roles White_Concept: 0.1876907665240984 STD: 0.0752227474804832\n",
      "RSA Asian_Roles White_Concept: -0.04022314555823997 STD: 0.04947843730735742\n",
      "RSA Black_Roles White_Concept: -0.09918405292114946 STD: 0.07430733128806782\n",
      "Sign Test White_Roles vs. Asian_Roles: 1.5777218104420236e-30\n",
      "Sign Test White_Roles vs. Black_Roles: 1.5777218104420236e-30\n",
      "Sign Test Black_Roles vs. Asian_Roles: 1.2579150016678854e-05\n",
      "\n",
      "Asian_Concept\n",
      "word idx matrices created\n",
      "w2v matrices created\n",
      "embeds generated\n",
      "RSA White_Roles Asian_Concept: 0.13129915665845884 STD: 0.051496656824830025\n",
      "RSA Asian_Roles Asian_Concept: -0.05046946941663473 STD: 0.041293746335263365\n",
      "RSA Black_Roles Asian_Concept: -0.09801387329666449 STD: 0.06179972685025737\n",
      "Sign Test White_Roles vs. Asian_Roles: 1.5777218104420236e-30\n",
      "Sign Test White_Roles vs. Black_Roles: 1.5777218104420236e-30\n",
      "Sign Test Black_Roles vs. Asian_Roles: 5.636282034205402e-07\n",
      "\n",
      "Black_Concept\n",
      "word idx matrices created\n",
      "w2v matrices created\n",
      "embeds generated\n",
      "RSA White_Roles Black_Concept: 0.16960223723469486 STD: 0.08386765216123546\n",
      "RSA Asian_Roles Black_Concept: -0.07417167932496638 STD: 0.06126919865930153\n",
      "RSA Black_Roles Black_Concept: -0.12497281652132228 STD: 0.07389490243572158\n",
      "Sign Test White_Roles vs. Asian_Roles: 1.5777218104420236e-30\n",
      "Sign Test White_Roles vs. Black_Roles: 1.5777218104420236e-30\n",
      "Sign Test Black_Roles vs. Asian_Roles: 0.00018314322488235366\n",
      "\n"
     ]
    }
   ],
   "source": [
    "w2v_hd_final = get_RSA3( curr_dr + '/data/Word_Data_race.xlsx', \n",
    "        curr_dr + \"/data/harddebiased.w2v\", 50)"
   ]
  },
  {
   "cell_type": "markdown",
   "metadata": {},
   "source": [
    "### Double Hard Debiased embeddings RSA scores"
   ]
  },
  {
   "cell_type": "markdown",
   "metadata": {},
   "source": [
    "#### Word2Vec"
   ]
  },
  {
   "cell_type": "code",
   "execution_count": 5,
   "metadata": {},
   "outputs": [
    {
     "name": "stdout",
     "output_type": "stream",
     "text": [
      "White_Concept\n",
      "word idx matrices created\n",
      "w2v matrices created\n",
      "embeds generated\n",
      "RSA White_Roles White_Concept: 0.17055830948849784 STD: 0.062960204347562\n",
      "RSA Asian_Roles White_Concept: -0.05400575962705032 STD: 0.0566093445296218\n",
      "RSA Black_Roles White_Concept: -0.1272264304375473 STD: 0.05662147267962422\n",
      "Sign Test White_Roles vs. Asian_Roles: 1.5777218104420236e-30\n",
      "Sign Test White_Roles vs. Black_Roles: 1.5777218104420236e-30\n",
      "Sign Test Black_Roles vs. Asian_Roles: 1.9113575360277063e-15\n",
      "\n",
      "Asian_Concept\n",
      "word idx matrices created\n",
      "w2v matrices created\n",
      "embeds generated\n",
      "RSA White_Roles Asian_Concept: 0.1237978388315753 STD: 0.0498067345239005\n",
      "RSA Asian_Roles Asian_Concept: -0.0646764637935579 STD: 0.051051840088967244\n",
      "RSA Black_Roles Asian_Concept: -0.14950394346156326 STD: 0.06151165128671529\n",
      "Sign Test White_Roles vs. Asian_Roles: 1.5777218104420236e-30\n",
      "Sign Test White_Roles vs. Black_Roles: 1.5777218104420236e-30\n",
      "Sign Test Black_Roles vs. Asian_Roles: 2.005959521923613e-21\n",
      "\n",
      "Black_Concept\n",
      "word idx matrices created\n",
      "w2v matrices created\n",
      "embeds generated\n",
      "RSA White_Roles Black_Concept: 0.14173437045829335 STD: 0.07445585828933893\n",
      "RSA Asian_Roles Black_Concept: -0.07480678075771113 STD: 0.06629795302926629\n",
      "RSA Black_Roles Black_Concept: -0.1744855902616345 STD: 0.07149389765483093\n",
      "Sign Test White_Roles vs. Asian_Roles: 1.5777218104420236e-30\n",
      "Sign Test White_Roles vs. Black_Roles: 1.5777218104420236e-30\n",
      "Sign Test Black_Roles vs. Asian_Roles: 2.005959521923613e-21\n",
      "\n"
     ]
    }
   ],
   "source": [
    "w2v_dhd_final = get_RSA3(curr_dr + '/data/Word_Data_race.xlsx', \n",
    "        curr_dr + \"/data/doubleharddebiased.w2v\", 50)"
   ]
  },
  {
   "cell_type": "markdown",
   "metadata": {},
   "source": [
    "## Visualizations"
   ]
  },
  {
   "cell_type": "markdown",
   "metadata": {},
   "source": [
    "#### Get the RSA means of each embedding results "
   ]
  },
  {
   "cell_type": "code",
   "execution_count": 6,
   "metadata": {},
   "outputs": [],
   "source": [
    "results = []\n",
    "for key in w2v_biased: \n",
    "    vals = list(w2v_biased[key])\n",
    "    vals.append(vals[1][0]+\"R_\"+vals[2][0]+\"C\")\n",
    "    vals.append(\"Biased\")\n",
    "    results.append(vals)\n",
    "for key in w2v_biased: \n",
    "    vals = list(w2v_hd_final[key])\n",
    "    vals.append(vals[1][0]+\"R_\"+vals[2][0]+\"C\")\n",
    "    vals.append(\"Hard Debiased\")\n",
    "    results.append(vals)\n",
    "for key in w2v_biased: \n",
    "    vals = list(w2v_dhd_final[key])\n",
    "    vals.append(vals[1][0]+\"R_\"+vals[2][0]+\"C\")\n",
    "    vals.append(\"Double Hard Debiased\")\n",
    "    results.append(vals)"
   ]
  },
  {
   "cell_type": "code",
   "execution_count": 7,
   "metadata": {},
   "outputs": [],
   "source": [
    "import pandas as pd\n",
    "df = pd.DataFrame(results,\n",
    "                       columns=['RSA', 'Roles', 'Concept', 'Roles and Concept', 'Bias' ])"
   ]
  },
  {
   "cell_type": "code",
   "execution_count": 8,
   "metadata": {},
   "outputs": [
    {
     "data": {
      "image/png": "[encoded data removed]",
      "text/plain": [
       "<Figure size 720x720 with 1 Axes>"
      ]
     },
     "metadata": {
      "needs_background": "light"
     },
     "output_type": "display_data"
    }
   ],
   "source": [
    "import seaborn as sns\n",
    "\n",
    "fig, ax = plt.subplots(figsize=(10, 10))\n",
    "plt.suptitle(\n",
    "    \"RSA results across different race concepts based on Biased, Hard Debiased, and Double Hard Debiased Embeddings\",\n",
    "    fontsize=14,\n",
    ")\n",
    "ax = sns.barplot(x=\"Roles and Concept\", y=\"RSA\", hue=\"Bias\", data=df)\n",
    "plt.tight_layout()\n",
    "plt.show()"
   ]
  },
  {
   "cell_type": "code",
   "execution_count": null,
   "metadata": {},
   "outputs": [],
   "source": []
  }
 ],
 "metadata": {
  "kernelspec": {
   "display_name": "Python 3 (ipykernel)",
   "language": "python",
   "name": "python3"
  },
  "language_info": {
   "codemirror_mode": {
    "name": "ipython",
    "version": 3
   },
   "file_extension": ".py",
   "mimetype": "text/x-python",
   "name": "python",
   "nbconvert_exporter": "python",
   "pygments_lexer": "ipython3",
   "version": "3.9.7"
  }
 },
 "nbformat": 4,
 "nbformat_minor": 1
}
