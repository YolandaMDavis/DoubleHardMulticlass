{
 "cells": [
  {
   "cell_type": "markdown",
   "metadata": {},
   "source": [
    "# Summary"
   ]
  },
  {
   "cell_type": "markdown",
   "metadata": {},
   "source": [
    "### In this notebook we evaluate all embedding types using Representational Similarity Analysis (RSA) with a focus on determining whether stereotypes align towards a concept of race. The goal is to evaluate for less similarity for any stereotype towards race (with higher values indicating more bias). This notebook adapts the work found in https://github.com/mlepori1/Unequal_Representations"
   ]
  },
  {
   "cell_type": "markdown",
   "metadata": {},
   "source": [
    "###  <span style=\"color:red\"> This notebook requires generated-hard-debias.w2v and generated-double-hard-debias.w2v data files. Please ensure to execute [double-hard-debias](https://github.com/YolandaMDavis/DoubleHardMulticlass/blob/main/double-hard-debias.ipynb) to generate these files before proceeding </span>"
   ]
  },
  {
   "cell_type": "code",
   "execution_count": 1,
   "metadata": {
    "pycharm": {
     "is_executing": true
    }
   },
   "outputs": [],
   "source": [
    "import matplotlib.pyplot as plt\n",
    "import numpy as np\n",
    "import string \n",
    "from common.rsaUtils import get_RSA3 \n",
    "\n",
    "%matplotlib inline"
   ]
  },
  {
   "cell_type": "code",
   "execution_count": 2,
   "metadata": {},
   "outputs": [],
   "source": [
    "import os\n",
    "curr_dr = os.getcwd() "
   ]
  },
  {
   "cell_type": "markdown",
   "metadata": {},
   "source": [
    "## Biased embeddings RSA scores"
   ]
  },
  {
   "cell_type": "markdown",
   "metadata": {},
   "source": [
    "#### Word2Vec"
   ]
  },
  {
   "cell_type": "code",
   "execution_count": 3,
   "metadata": {
    "scrolled": false
   },
   "outputs": [
    {
     "name": "stdout",
     "output_type": "stream",
     "text": [
      "White_Concept\n",
      "word idx matrices created\n",
      "matrices created\n",
      "embeds generated\n",
      "RSA White_Stereotypes White_Concept: 0.12601123664187192 STD: 0.09348660582236677\n",
      "RSA Asian_Stereotypes White_Concept: -0.06747908920061463 STD: 0.05865025172258091\n",
      "RSA Black_Stereotypes White_Concept: 0.08413958253825685 STD: 0.07410624345422678\n",
      "Sign Test White_Stereotypes vs. Asian_Stereotypes: 3.773842968353187e-21\n",
      "Sign Test White_Stereotypes vs. Black_Stereotypes: 0.0035176417229701587\n",
      "Sign Test Black_Stereotypes vs. Asian_Stereotypes: 2.726143732806038e-20\n",
      "\n",
      "Asian_Concept\n",
      "word idx matrices created\n",
      "matrices created\n",
      "embeds generated\n",
      "RSA White_Stereotypes Asian_Concept: 0.11285499997788055 STD: 0.053854030028731854\n",
      "RSA Asian_Stereotypes Asian_Concept: 0.034090018161897724 STD: 0.034212804230316106\n",
      "RSA Black_Stereotypes Asian_Concept: 0.06243847465273546 STD: 0.06240921929979027\n",
      "Sign Test White_Stereotypes vs. Asian_Stereotypes: 3.369757074208766e-15\n",
      "Sign Test White_Stereotypes vs. Black_Stereotypes: 0.00040877716742681523\n",
      "Sign Test Black_Stereotypes vs. Asian_Stereotypes: 0.056887933640980784\n",
      "\n",
      "Black_Concept\n",
      "word idx matrices created\n",
      "matrices created\n",
      "embeds generated\n",
      "RSA White_Stereotypes Black_Concept: 0.1424874058537299 STD: 0.07577160745737327\n",
      "RSA Asian_Stereotypes Black_Concept: -0.058992288116958454 STD: 0.06268408178872392\n",
      "RSA Black_Stereotypes Black_Concept: 0.14213557332377813 STD: 0.0681125287901896\n",
      "Sign Test White_Stereotypes vs. Asian_Stereotypes: 7.969072864542661e-27\n",
      "Sign Test White_Stereotypes vs. Black_Stereotypes: 0.6172994135892521\n",
      "Sign Test Black_Stereotypes vs. Asian_Stereotypes: 3.773842968353187e-21\n",
      "\n"
     ]
    }
   ],
   "source": [
    "w2v_biased =  get_RSA3(curr_dr+'/data/Word_Data_race.xlsx', \n",
    "        curr_dr  + \"/data/data_vocab_race_pre_trained.w2v\", 50)"
   ]
  },
  {
   "cell_type": "markdown",
   "metadata": {},
   "source": [
    "## Hard Debiased embeddings RSA scores"
   ]
  },
  {
   "cell_type": "markdown",
   "metadata": {},
   "source": [
    "#### Word2Vec"
   ]
  },
  {
   "cell_type": "code",
   "execution_count": 4,
   "metadata": {},
   "outputs": [
    {
     "name": "stdout",
     "output_type": "stream",
     "text": [
      "White_Concept\n",
      "word idx matrices created\n",
      "matrices created\n",
      "embeds generated\n",
      "RSA White_Stereotypes White_Concept: 0.1238289937697884 STD: 0.0781087846403179\n",
      "RSA Asian_Stereotypes White_Concept: -0.08950868443678434 STD: 0.05774204126070536\n",
      "RSA Black_Stereotypes White_Concept: 0.027468726754635787 STD: 0.0696262198509664\n",
      "Sign Test White_Stereotypes vs. Asian_Stereotypes: 1.5777218104420236e-30\n",
      "Sign Test White_Stereotypes vs. Black_Stereotypes: 6.147806615047975e-11\n",
      "Sign Test Black_Stereotypes vs. Asian_Stereotypes: 1.5777218104420236e-30\n",
      "\n",
      "Asian_Concept\n",
      "word idx matrices created\n",
      "matrices created\n",
      "embeds generated\n",
      "RSA White_Stereotypes Asian_Concept: 0.0658219213552297 STD: 0.04621228338515963\n",
      "RSA Asian_Stereotypes Asian_Concept: -0.038843174438145577 STD: 0.044599244424689384\n",
      "RSA Black_Stereotypes Asian_Concept: 0.05526282925496189 STD: 0.05223092262577145\n",
      "Sign Test White_Stereotypes vs. Asian_Stereotypes: 1.5777218104420236e-30\n",
      "Sign Test White_Stereotypes vs. Black_Stereotypes: 0.48411841360729146\n",
      "Sign Test Black_Stereotypes vs. Asian_Stereotypes: 6.449688895763542e-24\n",
      "\n",
      "Black_Concept\n",
      "word idx matrices created\n",
      "matrices created\n",
      "embeds generated\n",
      "RSA White_Stereotypes Black_Concept: 0.08993185982274295 STD: 0.07766395943426618\n",
      "RSA Asian_Stereotypes Black_Concept: -0.1097059908352189 STD: 0.053433529042529015\n",
      "RSA Black_Stereotypes Black_Concept: 0.017348257058779674 STD: 0.05960737629744171\n",
      "Sign Test White_Stereotypes vs. Asian_Stereotypes: 1.5777218104420236e-30\n",
      "Sign Test White_Stereotypes vs. Black_Stereotypes: 1.8100026213029253e-07\n",
      "Sign Test Black_Stereotypes vs. Asian_Stereotypes: 1.5777218104420236e-30\n",
      "\n"
     ]
    }
   ],
   "source": [
    "w2v_hd_final = get_RSA3( curr_dr + '/data/Word_Data_race.xlsx', \n",
    "        curr_dr + \"/data/generated-hard-debias.w2v\", 50)"
   ]
  },
  {
   "cell_type": "markdown",
   "metadata": {},
   "source": [
    "### Double Hard Debiased embeddings RSA scores"
   ]
  },
  {
   "cell_type": "markdown",
   "metadata": {},
   "source": [
    "#### Word2Vec"
   ]
  },
  {
   "cell_type": "code",
   "execution_count": 5,
   "metadata": {},
   "outputs": [
    {
     "name": "stdout",
     "output_type": "stream",
     "text": [
      "White_Concept\n",
      "word idx matrices created\n",
      "matrices created\n",
      "embeds generated\n",
      "RSA White_Stereotypes White_Concept: 0.12041966836613853 STD: 0.07202666801005596\n",
      "RSA Asian_Stereotypes White_Concept: -0.05954790583889318 STD: 0.05301651986119019\n",
      "RSA Black_Stereotypes White_Concept: 0.03050288123934338 STD: 0.07036879590492297\n",
      "Sign Test White_Stereotypes vs. Asian_Stereotypes: 2.630866896130179e-25\n",
      "Sign Test White_Stereotypes vs. Black_Stereotypes: 1.1159089057251951e-09\n",
      "Sign Test Black_Stereotypes vs. Asian_Stereotypes: 6.449688895763542e-24\n",
      "\n",
      "Asian_Concept\n",
      "word idx matrices created\n",
      "matrices created\n",
      "embeds generated\n",
      "RSA White_Stereotypes Asian_Concept: 0.04954144238510562 STD: 0.04572377409771119\n",
      "RSA Asian_Stereotypes Asian_Concept: -0.050014593939698336 STD: 0.048768941238145215\n",
      "RSA Black_Stereotypes Asian_Concept: 0.041284110019298534 STD: 0.057110317005899185\n",
      "Sign Test White_Stereotypes vs. Asian_Stereotypes: 3.1554436208840472e-30\n",
      "Sign Test White_Stereotypes vs. Black_Stereotypes: 0.3682016173266955\n",
      "Sign Test Black_Stereotypes vs. Asian_Stereotypes: 2.630866896130179e-25\n",
      "\n",
      "Black_Concept\n",
      "word idx matrices created\n",
      "matrices created\n",
      "embeds generated\n",
      "RSA White_Stereotypes Black_Concept: 0.09462143677052316 STD: 0.0786260460292407\n",
      "RSA Asian_Stereotypes Black_Concept: -0.08322831542112193 STD: 0.05268767428370464\n",
      "RSA Black_Stereotypes Black_Concept: -0.0008511811191480163 STD: 0.0644214734921319\n",
      "Sign Test White_Stereotypes vs. Asian_Stereotypes: 1.5777218104420236e-30\n",
      "Sign Test White_Stereotypes vs. Black_Stereotypes: 2.7027625220487884e-10\n",
      "Sign Test Black_Stereotypes vs. Asian_Stereotypes: 8.284451872080075e-14\n",
      "\n"
     ]
    }
   ],
   "source": [
    "w2v_dhd_final = get_RSA3(curr_dr + '/data/Word_Data_race.xlsx', \n",
    "        curr_dr + \"/data/generated-double-hard-debias.w2v\", 50)"
   ]
  },
  {
   "cell_type": "markdown",
   "metadata": {},
   "source": [
    "## Visualizations"
   ]
  },
  {
   "cell_type": "code",
   "execution_count": 6,
   "metadata": {},
   "outputs": [],
   "source": [
    "results = []\n",
    "for lis in w2v_biased: \n",
    "    lis.append(lis[1][0]+\"S_\"+lis[2][0]+\"C\")\n",
    "    lis.append(\"Biased\")\n",
    "    results.append(lis)\n",
    "for lis in w2v_hd_final: \n",
    "    lis.append(lis[1][0]+\"S_\"+lis[2][0]+\"C\")\n",
    "    lis.append(\"Hard Debiased\")\n",
    "    results.append(lis)\n",
    "for lis in w2v_dhd_final: \n",
    "    lis.append(lis[1][0]+\"S_\"+lis[2][0]+\"C\")\n",
    "    lis.append(\"Double Hard Debiased\")\n",
    "    results.append(lis)"
   ]
  },
  {
   "cell_type": "code",
   "execution_count": 7,
   "metadata": {},
   "outputs": [],
   "source": [
    "import pandas as pd\n",
    "df = pd.DataFrame(results,\n",
    "                       columns=['RSA', 'Stereotypes', 'Concept', 'Stereotypes and Concept', 'Embedding' ])"
   ]
  },
  {
   "cell_type": "code",
   "execution_count": 8,
   "metadata": {},
   "outputs": [
    {
     "data": {
      "image/png": "[encoded data removed]",
      "text/plain": [
       "<Figure size 720x720 with 1 Axes>"
      ]
     },
     "metadata": {
      "needs_background": "light"
     },
     "output_type": "display_data"
    }
   ],
   "source": [
    "import seaborn as sns\n",
    "\n",
    "fig, ax = plt.subplots(figsize=(10, 10))\n",
    "plt.suptitle(\n",
    "    \"RSA results across different race concepts based on Biased, Hard Debiased, and Double Hard Debiased Embeddings\",\n",
    "    fontsize=14,\n",
    ")\n",
    "ax = sns.barplot(x=\"Stereotypes and Concept\", y=\"RSA\", hue=\"Embedding\", data=df)\n",
    "plt.tight_layout()\n",
    "plt.show()"
   ]
  }
 ],
 "metadata": {
  "kernelspec": {
   "display_name": "Python 3 (ipykernel)",
   "language": "python",
   "name": "python3"
  },
  "language_info": {
   "codemirror_mode": {
    "name": "ipython",
    "version": 3
   },
   "file_extension": ".py",
   "mimetype": "text/x-python",
   "name": "python",
   "nbconvert_exporter": "python",
   "pygments_lexer": "ipython3",
   "version": "3.9.7"
  }
 },
 "nbformat": 4,
 "nbformat_minor": 1
}
